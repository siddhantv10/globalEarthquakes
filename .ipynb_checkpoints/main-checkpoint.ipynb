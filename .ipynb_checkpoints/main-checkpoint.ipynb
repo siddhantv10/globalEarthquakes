{
 "cells": [
  {
   "cell_type": "code",
   "execution_count": 5,
   "metadata": {},
   "outputs": [
    {
     "name": "stdout",
     "output_type": "stream",
     "text": [
      "Collecting plotly\n",
      "\u001b[?25l  Downloading https://files.pythonhosted.org/packages/70/56/eabdc7b7187cdb9d6121f6de2831ad5b85f7d002fa4bfe0476dbdb554bf6/plotly-4.8.1-py2.py3-none-any.whl (11.5MB)\n",
      "\u001b[K    100% |████████████████████████████████| 11.5MB 148kB/s eta 0:00:01\n",
      "\u001b[?25hRequirement already satisfied: six in /usr/lib/python3/dist-packages (from plotly) (1.12.0)\n",
      "Collecting retrying>=1.3.3 (from plotly)\n",
      "  Downloading https://files.pythonhosted.org/packages/44/ef/beae4b4ef80902f22e3af073397f079c96969c69b2c7d52a57ea9ae61c9d/retrying-1.3.3.tar.gz\n",
      "Building wheels for collected packages: retrying\n",
      "  Running setup.py bdist_wheel for retrying ... \u001b[?25ldone\n",
      "\u001b[?25h  Stored in directory: /home/siddhantverma777/.cache/pip/wheels/d7/a9/33/acc7b709e2a35caa7d4cae442f6fe6fbf2c43f80823d46460c\n",
      "Successfully built retrying\n",
      "Installing collected packages: retrying, plotly\n",
      "Successfully installed plotly-4.8.1 retrying-1.3.3\n"
     ]
    }
   ],
   "source": [
    "!pip3 install plotly"
   ]
  },
  {
   "cell_type": "code",
   "execution_count": 6,
   "metadata": {},
   "outputs": [],
   "source": [
    "import json\n",
    "\n",
    "from plotly.graph_objs import Scattergeo, Layout\n",
    "from plotly import offline"
   ]
  },
  {
   "cell_type": "code",
   "execution_count": 7,
   "metadata": {},
   "outputs": [],
   "source": [
    "#exploring structure of data\n",
    "filename = 'data/4.5_month.geojson.json'"
   ]
  },
  {
   "cell_type": "code",
   "execution_count": 8,
   "metadata": {},
   "outputs": [],
   "source": [
    "#loading json file\n",
    "with open(filename) as f:\n",
    "    all_eq_data = json.load(f)"
   ]
  },
  {
   "cell_type": "code",
   "execution_count": 9,
   "metadata": {},
   "outputs": [],
   "source": [
    "#making json file readable\n",
    "\n",
    "readable_file = 'data/4.5_month.geojson.json'\n",
    "with open(readable_file, 'w') as f:\n",
    "    json.dump(all_eq_data, f, indent=4)"
   ]
  },
  {
   "cell_type": "code",
   "execution_count": 10,
   "metadata": {},
   "outputs": [
    {
     "name": "stdout",
     "output_type": "stream",
     "text": [
      "400\n"
     ]
    }
   ],
   "source": [
    "#making a list of all earthquakes\n",
    "all_eq_dicts = all_eq_data['features']\n",
    "print(len(all_eq_dicts))"
   ]
  },
  {
   "cell_type": "code",
   "execution_count": 11,
   "metadata": {},
   "outputs": [
    {
     "name": "stdout",
     "output_type": "stream",
     "text": [
      "[4.5, 4.7, 4.5, 4.6, 4.8]\n"
     ]
    }
   ],
   "source": [
    "#extracting magnitudes\n",
    "mags= []\n",
    "for eq_dict in all_eq_dicts:\n",
    "    mag = eq_dict['properties']['mag']\n",
    "    mags.append(mag)\n",
    "\n",
    "print(mags[:5])"
   ]
  },
  {
   "cell_type": "code",
   "execution_count": 12,
   "metadata": {},
   "outputs": [
    {
     "name": "stdout",
     "output_type": "stream",
     "text": [
      "[4.5, 4.7, 4.5, 4.6, 4.8]\n",
      "[142.896, 130.389, 70.3378, 126.6762, -17.7827]\n",
      "[28.2262, 31.1978, 38.7023, 26.7483, 64.5005]\n"
     ]
    }
   ],
   "source": [
    "#extracting location data along with magnitude\n",
    "\n",
    "mags, lons, lats = [], [], []\n",
    "for eq_dict in all_eq_dicts:\n",
    "    mag = eq_dict['properties']['mag']\n",
    "    lon = eq_dict['geometry']['coordinates'][0]\n",
    "    lat = eq_dict['geometry']['coordinates'][1]\n",
    "    mags.append(mag)\n",
    "    lons.append(lon)\n",
    "    lats.append(lat)\n",
    "print(mags[:5])\n",
    "print(lons[:5])\n",
    "print(lats[:5])\n"
   ]
  },
  {
   "cell_type": "markdown",
   "metadata": {},
   "source": [
    "BUILDING A WORLD MAP"
   ]
  },
  {
   "cell_type": "code",
   "execution_count": 16,
   "metadata": {},
   "outputs": [
    {
     "data": {
      "text/plain": [
       "'global_earthquakes.html'"
      ]
     },
     "execution_count": 16,
     "metadata": {},
     "output_type": "execute_result"
    }
   ],
   "source": [
    "#MAP THE EARTHQUAKE\n",
    "data = [Scattergeo(lon = lons, lat = lats)]\n",
    "my_layout = Layout(title = 'Global Earthqaukes')\n",
    "    \n",
    "    \n",
    "fig = {'data':data, 'layout': my_layout}\n",
    "offline.plot(fig, filename = 'global_earthquakes.html')"
   ]
  },
  {
   "cell_type": "code",
   "execution_count": 18,
   "metadata": {},
   "outputs": [
    {
     "data": {
      "text/plain": [
       "'global_earthquakes.html'"
      ]
     },
     "execution_count": 18,
     "metadata": {},
     "output_type": "execute_result"
    }
   ],
   "source": [
    "##different way of mapping\n",
    "\n",
    "data = [{\n",
    "'type': 'scattergeo',\n",
    "'lon': lons,\n",
    "'lat': lats,\n",
    "}]\n",
    "\n",
    "my_layout = Layout(title = 'Global Earthqaukes')\n",
    "    \n",
    "    \n",
    "fig = {'data':data, 'layout': my_layout}\n",
    "offline.plot(fig, filename = 'global_earthquakes.html')"
   ]
  },
  {
   "cell_type": "code",
   "execution_count": 19,
   "metadata": {},
   "outputs": [
    {
     "data": {
      "text/plain": [
       "'global_earthquakes.html'"
      ]
     },
     "execution_count": 19,
     "metadata": {},
     "output_type": "execute_result"
    }
   ],
   "source": [
    "#changing marker size\n",
    "data = [{\n",
    "'type': 'scattergeo',\n",
    "'lon': lons,\n",
    "'lat': lats,\n",
    "'marker':{\n",
    "    'size': [5*mag for mag in mags],\n",
    "  \n",
    "}\n",
    "}]\n",
    "\n",
    "my_layout = Layout(title = 'Global Earthqaukes')\n",
    "    \n",
    "    \n",
    "fig = {'data':data, 'layout': my_layout}\n",
    "offline.plot(fig, filename = 'global_earthquakes.html')"
   ]
  },
  {
   "cell_type": "code",
   "execution_count": 15,
   "metadata": {},
   "outputs": [
    {
     "data": {
      "text/plain": [
       "'global_earthquakes.html'"
      ]
     },
     "execution_count": 15,
     "metadata": {},
     "output_type": "execute_result"
    }
   ],
   "source": [
    "#customizing color markers using a colorbar\n",
    "#changing marker size\n",
    "data = [{\n",
    "'type': 'scattergeo',\n",
    "'lon': lons,\n",
    "'lat': lats,\n",
    "'marker':{\n",
    "    'size': [5*mag for mag in mags],\n",
    "      'color':mags,\n",
    "    'colorscale':'Portland',\n",
    "    'reversescale':False,\n",
    "    'colorbar':{'title':'Magnitude'}  \n",
    "}\n",
    "}]\n",
    "\n",
    "my_layout = Layout(title = 'Global Earthqaukes')\n",
    "    \n",
    "    \n",
    "fig = {'data':data, 'layout': my_layout}\n",
    "offline.plot(fig, filename = 'global_earthquakes.html')"
   ]
  },
  {
   "cell_type": "code",
   "execution_count": 22,
   "metadata": {
    "scrolled": true
   },
   "outputs": [
    {
     "name": "stdout",
     "output_type": "stream",
     "text": [
      "Greys\n",
      "YlGnBu\n",
      "Greens\n",
      "YlOrRd\n",
      "Bluered\n",
      "RdBu\n",
      "Reds\n",
      "Blues\n",
      "Picnic\n",
      "Rainbow\n",
      "Portland\n",
      "Jet\n",
      "Hot\n",
      "Blackbody\n",
      "Earth\n",
      "Electric\n",
      "Viridis\n",
      "Cividis\n"
     ]
    }
   ],
   "source": [
    "#exploring other color scales\n",
    "from plotly import colors\n",
    "for key in colors.PLOTLY_SCALES.keys():\n",
    "    print(key)"
   ]
  },
  {
   "cell_type": "code",
   "execution_count": 11,
   "metadata": {},
   "outputs": [],
   "source": [
    "#adding hover text\n",
    "\n",
    "mags, lons, lats, hover_texts= [], [], [], []\n",
    "for eq_dict in all_eq_dicts:\n",
    "    mag = eq_dict['properties']['mag']\n",
    "    title = eq_dict['properties']['title']\n",
    "    lon = eq_dict['geometry']['coordinates'][0]\n",
    "    lat = eq_dict['geometry']['coordinates'][1]\n",
    "    mags.append(mag)\n",
    "    lons.append(lon)\n",
    "    lats.append(lat)\n",
    "    hover_texts.append(title)\n"
   ]
  },
  {
   "cell_type": "code",
   "execution_count": 45,
   "metadata": {},
   "outputs": [
    {
     "data": {
      "text/plain": [
       "'global_earthquakes.html'"
      ]
     },
     "execution_count": 45,
     "metadata": {},
     "output_type": "execute_result"
    }
   ],
   "source": [
    "data = [{\n",
    "'type': 'scattergeo',\n",
    "'lon': lons,\n",
    "'lat': lats,\n",
    "'text':hover_texts,\n",
    "'marker':{\n",
    "    'size': [5*mag for mag in mags],\n",
    "      'color':mags,\n",
    "    'colorscale':'Portland',\n",
    "    'reversescale':False,\n",
    "    'colorbar':{'title':'Magnitude'}  \n",
    "}\n",
    "}]\n",
    "\n",
    "my_layout = Layout(title = 'Global Earthqaukes')\n",
    "    \n",
    "    \n",
    "fig = {'data':data, 'layout': my_layout}\n",
    "offline.plot(fig, filename = 'global_earthquakes.html')"
   ]
  },
  {
   "cell_type": "code",
   "execution_count": 14,
   "metadata": {},
   "outputs": [
    {
     "ename": "NameError",
     "evalue": "name 'hover_texts' is not defined",
     "output_type": "error",
     "traceback": [
      "\u001b[0;31m---------------------------------------------------------------------------\u001b[0m",
      "\u001b[0;31mNameError\u001b[0m                                 Traceback (most recent call last)",
      "\u001b[0;32m<ipython-input-14-c929aab90338>\u001b[0m in \u001b[0;36m<module>\u001b[0;34m\u001b[0m\n\u001b[1;32m      4\u001b[0m \u001b[0;34m'lon'\u001b[0m\u001b[0;34m:\u001b[0m \u001b[0mlons\u001b[0m\u001b[0;34m,\u001b[0m\u001b[0;34m\u001b[0m\u001b[0;34m\u001b[0m\u001b[0m\n\u001b[1;32m      5\u001b[0m \u001b[0;34m'lat'\u001b[0m\u001b[0;34m:\u001b[0m \u001b[0mlats\u001b[0m\u001b[0;34m,\u001b[0m\u001b[0;34m\u001b[0m\u001b[0;34m\u001b[0m\u001b[0m\n\u001b[0;32m----> 6\u001b[0;31m \u001b[0;34m'text'\u001b[0m\u001b[0;34m:\u001b[0m\u001b[0mhover_texts\u001b[0m\u001b[0;34m,\u001b[0m\u001b[0;34m\u001b[0m\u001b[0;34m\u001b[0m\u001b[0m\n\u001b[0m\u001b[1;32m      7\u001b[0m 'marker':{\n\u001b[1;32m      8\u001b[0m     \u001b[0;34m'size'\u001b[0m\u001b[0;34m:\u001b[0m \u001b[0;34m[\u001b[0m\u001b[0;36m3\u001b[0m\u001b[0;34m*\u001b[0m\u001b[0mmag\u001b[0m \u001b[0;32mfor\u001b[0m \u001b[0mmag\u001b[0m \u001b[0;32min\u001b[0m \u001b[0mmags\u001b[0m\u001b[0;34m]\u001b[0m\u001b[0;34m,\u001b[0m\u001b[0;34m\u001b[0m\u001b[0;34m\u001b[0m\u001b[0m\n",
      "\u001b[0;31mNameError\u001b[0m: name 'hover_texts' is not defined"
     ]
    }
   ],
   "source": [
    "#adding automatic title\n",
    "data = [{\n",
    "'type': 'scattergeo',\n",
    "'lon': lons,\n",
    "'lat': lats,\n",
    "'text':hover_texts,\n",
    "'marker':{\n",
    "    'size': [3*mag for mag in mags],\n",
    "      'color':mags,\n",
    "    'colorscale':'Portland',\n",
    "    'reversescale':False,\n",
    "    'colorbar':{'title':'Magnitude'}  \n",
    "}\n",
    "}]\n",
    "\n",
    "auto_title = all_eq_data['metadata']['title']\n",
    "my_layout = Layout(title = auto_title)\n",
    "    \n",
    "    \n",
    "fig = {'data':data, 'layout': my_layout}\n",
    "offline.plot(fig, filename = 'global_earthquakes.html')"
   ]
  },
  {
   "cell_type": "code",
   "execution_count": null,
   "metadata": {},
   "outputs": [],
   "source": []
  }
 ],
 "metadata": {
  "kernelspec": {
   "display_name": "Python 3",
   "language": "python",
   "name": "python3"
  },
  "language_info": {
   "codemirror_mode": {
    "name": "ipython",
    "version": 3
   },
   "file_extension": ".py",
   "mimetype": "text/x-python",
   "name": "python",
   "nbconvert_exporter": "python",
   "pygments_lexer": "ipython3",
   "version": "3.7.3"
  }
 },
 "nbformat": 4,
 "nbformat_minor": 2
}
